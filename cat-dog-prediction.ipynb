{
 "cells": [
  {
   "cell_type": "code",
   "execution_count": 1,
   "metadata": {
    "_cell_guid": "b1076dfc-b9ad-4769-8c92-a6c4dae69d19",
    "_uuid": "8f2839f25d086af736a60e9eeb907d3b93b6e0e5",
    "execution": {
     "iopub.execute_input": "2023-10-16T16:24:46.091074Z",
     "iopub.status.busy": "2023-10-16T16:24:46.090530Z",
     "iopub.status.idle": "2023-10-16T16:24:46.394358Z",
     "shell.execute_reply": "2023-10-16T16:24:46.393522Z",
     "shell.execute_reply.started": "2023-10-16T16:24:46.091034Z"
    }
   },
   "outputs": [],
   "source": [
    "\n",
    "\n",
    "import numpy as np # linear algebra\n",
    "import pandas as pd # data processing, CSV file I/O (e.g. pd.read_csv)\n",
    "\n",
    "\n",
    "\n",
    "import os\n",
    " "
   ]
  },
  {
   "cell_type": "code",
   "execution_count": null,
   "metadata": {},
   "outputs": [],
   "source": [
    "Path=\"/kaggle/input/dogs-vs-cats/train/train/\"\n",
    "filename=os.listdir(Path)\n",
    "len(filename)"
   ]
  },
  {
   "cell_type": "code",
   "execution_count": 3,
   "metadata": {
    "execution": {
     "iopub.execute_input": "2023-10-16T16:25:00.665058Z",
     "iopub.status.busy": "2023-10-16T16:25:00.664380Z",
     "iopub.status.idle": "2023-10-16T16:25:00.670531Z",
     "shell.execute_reply": "2023-10-16T16:25:00.669551Z",
     "shell.execute_reply.started": "2023-10-16T16:25:00.665025Z"
    }
   },
   "outputs": [
    {
     "data": {
      "text/plain": [
       "['cat.12461.jpg',\n",
       " 'dog.3443.jpg',\n",
       " 'dog.7971.jpg',\n",
       " 'dog.10728.jpg',\n",
       " 'dog.1942.jpg']"
      ]
     },
     "execution_count": 3,
     "metadata": {},
     "output_type": "execute_result"
    }
   ],
   "source": [
    "filename[:5]"
   ]
  },
  {
   "cell_type": "code",
   "execution_count": 4,
   "metadata": {
    "execution": {
     "iopub.execute_input": "2023-10-16T16:25:04.042013Z",
     "iopub.status.busy": "2023-10-16T16:25:04.041656Z",
     "iopub.status.idle": "2023-10-16T16:25:04.052229Z",
     "shell.execute_reply": "2023-10-16T16:25:04.051379Z",
     "shell.execute_reply.started": "2023-10-16T16:25:04.041978Z"
    }
   },
   "outputs": [
    {
     "data": {
      "text/plain": [
       "['cat', 'dog', 'dog', 'dog', 'dog']"
      ]
     },
     "execution_count": 4,
     "metadata": {},
     "output_type": "execute_result"
    }
   ],
   "source": [
    "labels=[name[:3]for name in filename]\n",
    "labels[:5]"
   ]
  },
  {
   "cell_type": "code",
   "execution_count": 5,
   "metadata": {
    "execution": {
     "iopub.execute_input": "2023-10-16T16:25:05.153458Z",
     "iopub.status.busy": "2023-10-16T16:25:05.152832Z",
     "iopub.status.idle": "2023-10-16T16:25:05.181966Z",
     "shell.execute_reply": "2023-10-16T16:25:05.180960Z",
     "shell.execute_reply.started": "2023-10-16T16:25:05.153428Z"
    }
   },
   "outputs": [
    {
     "data": {
      "text/html": [
       "<div>\n",
       "<style scoped>\n",
       "    .dataframe tbody tr th:only-of-type {\n",
       "        vertical-align: middle;\n",
       "    }\n",
       "\n",
       "    .dataframe tbody tr th {\n",
       "        vertical-align: top;\n",
       "    }\n",
       "\n",
       "    .dataframe thead th {\n",
       "        text-align: right;\n",
       "    }\n",
       "</style>\n",
       "<table border=\"1\" class=\"dataframe\">\n",
       "  <thead>\n",
       "    <tr style=\"text-align: right;\">\n",
       "      <th></th>\n",
       "      <th>Filename</th>\n",
       "      <th>Label</th>\n",
       "    </tr>\n",
       "  </thead>\n",
       "  <tbody>\n",
       "    <tr>\n",
       "      <th>0</th>\n",
       "      <td>cat.12461.jpg</td>\n",
       "      <td>cat</td>\n",
       "    </tr>\n",
       "    <tr>\n",
       "      <th>1</th>\n",
       "      <td>dog.3443.jpg</td>\n",
       "      <td>dog</td>\n",
       "    </tr>\n",
       "    <tr>\n",
       "      <th>2</th>\n",
       "      <td>dog.7971.jpg</td>\n",
       "      <td>dog</td>\n",
       "    </tr>\n",
       "    <tr>\n",
       "      <th>3</th>\n",
       "      <td>dog.10728.jpg</td>\n",
       "      <td>dog</td>\n",
       "    </tr>\n",
       "    <tr>\n",
       "      <th>4</th>\n",
       "      <td>dog.1942.jpg</td>\n",
       "      <td>dog</td>\n",
       "    </tr>\n",
       "  </tbody>\n",
       "</table>\n",
       "</div>"
      ],
      "text/plain": [
       "        Filename Label\n",
       "0  cat.12461.jpg   cat\n",
       "1   dog.3443.jpg   dog\n",
       "2   dog.7971.jpg   dog\n",
       "3  dog.10728.jpg   dog\n",
       "4   dog.1942.jpg   dog"
      ]
     },
     "execution_count": 5,
     "metadata": {},
     "output_type": "execute_result"
    }
   ],
   "source": [
    "df=pd.DataFrame({'Filename':filename,'Label':labels})\n",
    "df.head()"
   ]
  },
  {
   "cell_type": "code",
   "execution_count": 6,
   "metadata": {
    "execution": {
     "iopub.execute_input": "2023-10-16T16:25:09.245013Z",
     "iopub.status.busy": "2023-10-16T16:25:09.244671Z",
     "iopub.status.idle": "2023-10-16T16:25:23.375362Z",
     "shell.execute_reply": "2023-10-16T16:25:23.374428Z",
     "shell.execute_reply.started": "2023-10-16T16:25:09.244985Z"
    }
   },
   "outputs": [
    {
     "name": "stderr",
     "output_type": "stream",
     "text": [
      "/opt/conda/lib/python3.10/site-packages/scipy/__init__.py:146: UserWarning: A NumPy version >=1.16.5 and <1.23.0 is required for this version of SciPy (detected version 1.23.5\n",
      "  warnings.warn(f\"A NumPy version >={np_minversion} and <{np_maxversion}\"\n"
     ]
    }
   ],
   "source": [
    "from tensorflow.keras.preprocessing.image import ImageDataGenerator"
   ]
  },
  {
   "cell_type": "code",
   "execution_count": 7,
   "metadata": {
    "execution": {
     "iopub.execute_input": "2023-10-16T16:25:36.887278Z",
     "iopub.status.busy": "2023-10-16T16:25:36.886705Z",
     "iopub.status.idle": "2023-10-16T16:25:36.892204Z",
     "shell.execute_reply": "2023-10-16T16:25:36.890956Z",
     "shell.execute_reply.started": "2023-10-16T16:25:36.887249Z"
    }
   },
   "outputs": [],
   "source": [
    "data_gen=ImageDataGenerator(zoom_range=0.2,rotation_range=0.2,horizontal_flip=True,rescale=1/255)"
   ]
  },
  {
   "cell_type": "code",
   "execution_count": 11,
   "metadata": {
    "execution": {
     "iopub.execute_input": "2023-10-16T16:27:35.049016Z",
     "iopub.status.busy": "2023-10-16T16:27:35.048655Z",
     "iopub.status.idle": "2023-10-16T16:29:01.210658Z",
     "shell.execute_reply": "2023-10-16T16:29:01.209770Z",
     "shell.execute_reply.started": "2023-10-16T16:27:35.048986Z"
    }
   },
   "outputs": [
    {
     "name": "stdout",
     "output_type": "stream",
     "text": [
      "Found 25000 validated image filenames belonging to 2 classes.\n"
     ]
    }
   ],
   "source": [
    "train_data=data_gen.flow_from_dataframe(df,Path,target_size=(224,224),x_col='Filename',y_col=\"Label\",batch_size=64)"
   ]
  },
  {
   "cell_type": "code",
   "execution_count": 12,
   "metadata": {
    "execution": {
     "iopub.execute_input": "2023-10-16T16:29:10.497302Z",
     "iopub.status.busy": "2023-10-16T16:29:10.496983Z",
     "iopub.status.idle": "2023-10-16T16:29:10.501474Z",
     "shell.execute_reply": "2023-10-16T16:29:10.500432Z",
     "shell.execute_reply.started": "2023-10-16T16:29:10.497278Z"
    }
   },
   "outputs": [],
   "source": [
    "#model building\n",
    "from tensorflow.keras.models import Sequential\n",
    "from tensorflow.keras.layers import Conv2D,MaxPool2D,Flatten,Dense"
   ]
  },
  {
   "cell_type": "code",
   "execution_count": 13,
   "metadata": {
    "execution": {
     "iopub.execute_input": "2023-10-16T16:29:18.548688Z",
     "iopub.status.busy": "2023-10-16T16:29:18.548358Z",
     "iopub.status.idle": "2023-10-16T16:29:18.636752Z",
     "shell.execute_reply": "2023-10-16T16:29:18.635928Z",
     "shell.execute_reply.started": "2023-10-16T16:29:18.548660Z"
    }
   },
   "outputs": [],
   "source": [
    "model=Sequential()\n",
    "model.add(Conv2D(32,(3,3),activation='relu',input_shape=(224,224,3)))\n",
    "model.add(MaxPool2D())\n",
    "\n",
    "model.add(Conv2D(64,(3,3),activation='relu'))\n",
    "model.add(MaxPool2D())\n",
    "\n",
    "model.add(Conv2D(128,(5,5),activation='relu'))\n",
    "model.add(MaxPool2D())\n",
    "\n",
    "model.add(Conv2D(128,(3,3),activation='relu'))\n",
    "model.add(MaxPool2D())\n",
    "\n",
    "model.add(Conv2D(256,(3,3),activation='relu'))\n",
    "model.add(MaxPool2D())\n",
    "\n",
    "model.add(Flatten())\n",
    "model.add(Dense(2,activation='softmax'))\n",
    "\n",
    "model.compile(loss='categorical_crossentropy',metrics=['accuracy'])"
   ]
  },
  {
   "cell_type": "code",
   "execution_count": 14,
   "metadata": {
    "execution": {
     "iopub.execute_input": "2023-10-16T16:29:23.257825Z",
     "iopub.status.busy": "2023-10-16T16:29:23.256769Z",
     "iopub.status.idle": "2023-10-16T17:00:49.803990Z",
     "shell.execute_reply": "2023-10-16T17:00:49.802939Z",
     "shell.execute_reply.started": "2023-10-16T16:29:23.257784Z"
    }
   },
   "outputs": [
    {
     "name": "stdout",
     "output_type": "stream",
     "text": [
      "Epoch 1/5\n",
      "391/391 [==============================] - 515s 1s/step - loss: 0.6480 - accuracy: 0.6100\n",
      "Epoch 2/5\n",
      "391/391 [==============================] - 336s 859ms/step - loss: 0.5294 - accuracy: 0.7383\n",
      "Epoch 3/5\n",
      "391/391 [==============================] - 326s 833ms/step - loss: 0.4364 - accuracy: 0.7977\n",
      "Epoch 4/5\n",
      "391/391 [==============================] - 326s 833ms/step - loss: 0.3654 - accuracy: 0.8387\n",
      "Epoch 5/5\n",
      "391/391 [==============================] - 328s 838ms/step - loss: 0.3018 - accuracy: 0.8685\n"
     ]
    },
    {
     "data": {
      "text/plain": [
       "<keras.callbacks.History at 0x7cd9cc10fdf0>"
      ]
     },
     "execution_count": 14,
     "metadata": {},
     "output_type": "execute_result"
    }
   ],
   "source": [
    "model.fit(train_data,epochs=5)"
   ]
  },
  {
   "cell_type": "code",
   "execution_count": 15,
   "metadata": {
    "execution": {
     "iopub.execute_input": "2023-10-16T17:00:50.924226Z",
     "iopub.status.busy": "2023-10-16T17:00:50.923870Z",
     "iopub.status.idle": "2023-10-16T17:00:50.981234Z",
     "shell.execute_reply": "2023-10-16T17:00:50.980350Z",
     "shell.execute_reply.started": "2023-10-16T17:00:50.924193Z"
    }
   },
   "outputs": [],
   "source": [
    "model.save('cat_dog_prediction.h5')"
   ]
  },
  {
   "cell_type": "code",
   "execution_count": null,
   "metadata": {},
   "outputs": [],
   "source": []
  }
 ],
 "metadata": {
  "kernelspec": {
   "display_name": "Python 3 (ipykernel)",
   "language": "python",
   "name": "python3"
  },
  "language_info": {
   "codemirror_mode": {
    "name": "ipython",
    "version": 3
   },
   "file_extension": ".py",
   "mimetype": "text/x-python",
   "name": "python",
   "nbconvert_exporter": "python",
   "pygments_lexer": "ipython3",
   "version": "3.10.9"
  }
 },
 "nbformat": 4,
 "nbformat_minor": 4
}
