{
 "cells": [
  {
   "cell_type": "code",
   "execution_count": 1,
   "id": "0f6024d1",
   "metadata": {},
   "outputs": [],
   "source": [
    "from tensorflow.keras.models import load_model"
   ]
  },
  {
   "cell_type": "code",
   "execution_count": 2,
   "id": "6f0be328",
   "metadata": {},
   "outputs": [],
   "source": [
    "model=load_model('../Downloads/cat_dog_prediction.h5')"
   ]
  },
  {
   "cell_type": "code",
   "execution_count": 3,
   "id": "dd1122d3",
   "metadata": {},
   "outputs": [],
   "source": [
    "import cv2\n",
    "def get_animal(path):\n",
    "    A=cv2.imread(path)\n",
    "    A=cv2.resize(A,(224,224))\n",
    "    A=A/255\n",
    "    A=A.reshape(1,224,224,3)\n",
    "    return model.predict_on_batch(A).argmax()"
   ]
  },
  {
   "cell_type": "code",
   "execution_count": 7,
   "id": "8032c40a",
   "metadata": {},
   "outputs": [
    {
     "name": "stdout",
     "output_type": "stream",
     "text": [
      "../Desktop/cat-dog/c10.jpg\n",
      "../Desktop/cat-dog/c5.jpg\n",
      "../Desktop/cat-dog/c6.jpg\n",
      "../Desktop/cat-dog/c7.jpg\n",
      "../Desktop/cat-dog/c8.jpg\n",
      "../Desktop/cat-dog/c9.jpg\n",
      "../Desktop/cat-dog/d1.jpg\n",
      "../Desktop/cat-dog/d2.jpg\n",
      "../Desktop/cat-dog/d3.jpg\n",
      "../Desktop/cat-dog/d4.jpg\n"
     ]
    }
   ],
   "source": [
    "import os\n",
    "for img in os.listdir('../Desktop/cat-dog/'):\n",
    "    print('../Desktop/cat-dog/'+img)"
   ]
  },
  {
   "cell_type": "code",
   "execution_count": 8,
   "id": "9efa5600",
   "metadata": {},
   "outputs": [
    {
     "name": "stdout",
     "output_type": "stream",
     "text": [
      "c10.jpg \t 0\n",
      "c5.jpg \t 0\n",
      "c6.jpg \t 0\n",
      "c7.jpg \t 0\n",
      "c8.jpg \t 1\n",
      "c9.jpg \t 0\n",
      "d1.jpg \t 1\n",
      "d2.jpg \t 1\n",
      "d3.jpg \t 1\n",
      "d4.jpg \t 1\n"
     ]
    }
   ],
   "source": [
    "for img in os.listdir('../Desktop/cat-dog/'):\n",
    "    y=get_animal('../Desktop/cat-dog/'+img)\n",
    "    print(img,'\\t',y)"
   ]
  },
  {
   "cell_type": "code",
   "execution_count": null,
   "id": "982304fc",
   "metadata": {},
   "outputs": [],
   "source": []
  }
 ],
 "metadata": {
  "kernelspec": {
   "display_name": "Python 3 (ipykernel)",
   "language": "python",
   "name": "python3"
  },
  "language_info": {
   "codemirror_mode": {
    "name": "ipython",
    "version": 3
   },
   "file_extension": ".py",
   "mimetype": "text/x-python",
   "name": "python",
   "nbconvert_exporter": "python",
   "pygments_lexer": "ipython3",
   "version": "3.11.4"
  }
 },
 "nbformat": 4,
 "nbformat_minor": 5
}
